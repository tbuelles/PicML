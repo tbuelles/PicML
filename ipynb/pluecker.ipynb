{
 "cells": [
  {
   "cell_type": "code",
   "execution_count": null,
   "id": "f1048cfe",
   "metadata": {},
   "outputs": [],
   "source": [
    "import pandas as pd\n",
    "from pandas import Series, DataFrame\n",
    "from ast import literal_eval\n",
    "from itertools import combinations\n",
    "import os\n",
    "\n",
    "comb_dict = {n: list(combinations(range(n), n-3)) for n in range(4, 15)}\n",
    "\n",
    "def to_integer_kernel(a):\n",
    "    n = len(a[0])\n",
    "    A = matrix(ZZ, a).transpose()\n",
    "    A_null = A.integer_kernel() # (n-3) x n\n",
    "    return Matrix(A_null.basis())\n",
    "\n",
    "def array_to_pluecker(a):\n",
    "    n = len(a[0])\n",
    "    B = to_integer_kernel(a)\n",
    "    res = []\n",
    "    for c in comb_dict[n]:\n",
    "        minor = B[:, c]\n",
    "        res.append(minor.det())\n",
    "    return res\n",
    "\n",
    "def pluecker_csv(input_file):\n",
    "    input_head, input_tail = os.path.split(input_file)\n",
    "    output_file = input_head + \"/pluecker_\" + input_tail\n",
    "    df = pd.read_csv(input_file, converters={\"matrix\":literal_eval})\n",
    "    df[\"pluecker\"] = df[\"matrix\"].apply(array_to_pluecker)\n",
    "    df.to_csv(output_file, index=False)\n",
    "\n",
    "if __name__ == \"__main__\":\n",
    "    for input_file in input_file_paths:\n",
    "        pluecker_csv(input_file)"
   ]
  },
  {
   "cell_type": "code",
   "execution_count": null,
   "id": "756af9c9",
   "metadata": {},
   "outputs": [],
   "source": []
  }
 ],
 "metadata": {
  "kernelspec": {
   "display_name": "Python 3 (ipykernel)",
   "language": "python",
   "name": "python3"
  },
  "language_info": {
   "codemirror_mode": {
    "name": "ipython",
    "version": 3
   },
   "file_extension": ".py",
   "mimetype": "text/x-python",
   "name": "python",
   "nbconvert_exporter": "python",
   "pygments_lexer": "ipython3",
   "version": "3.10.9"
  }
 },
 "nbformat": 4,
 "nbformat_minor": 5
}
