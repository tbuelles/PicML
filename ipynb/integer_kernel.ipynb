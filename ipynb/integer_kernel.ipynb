{
 "cells": [
  {
   "cell_type": "code",
   "execution_count": 55,
   "id": "c0d9cd8c",
   "metadata": {},
   "outputs": [
    {
     "ename": "NameError",
     "evalue": "name 'PATH' is not defined",
     "output_type": "error",
     "traceback": [
      "\u001b[0;31m---------------------------------------------------------------------------\u001b[0m",
      "\u001b[0;31mNameError\u001b[0m                                 Traceback (most recent call last)",
      "\u001b[0;32m/var/folders/hq/5jyl8d291wvdvlyn4tbdg060006j4c/T/ipykernel_98838/3869981508.py\u001b[0m in \u001b[0;36m<module>\u001b[0;34m\u001b[0m\n\u001b[1;32m     40\u001b[0m \u001b[0;34m\u001b[0m\u001b[0m\n\u001b[1;32m     41\u001b[0m \u001b[0;32mif\u001b[0m \u001b[0m__name__\u001b[0m \u001b[0;34m==\u001b[0m \u001b[0;34m\"__main__\"\u001b[0m\u001b[0;34m:\u001b[0m\u001b[0;34m\u001b[0m\u001b[0;34m\u001b[0m\u001b[0m\n\u001b[0;32m---> 42\u001b[0;31m     \u001b[0mpluecker_csv\u001b[0m\u001b[0;34m(\u001b[0m\u001b[0mPATH\u001b[0m\u001b[0;34m)\u001b[0m\u001b[0;34m\u001b[0m\u001b[0;34m\u001b[0m\u001b[0m\n\u001b[0m",
      "\u001b[0;31mNameError\u001b[0m: name 'PATH' is not defined"
     ]
    }
   ],
   "source": [
    "import pandas as pd\n",
    "from pandas import Series, DataFrame\n",
    "from ast import literal_eval\n",
    "from itertools import combinations\n",
    "from datetime import datetime\n",
    "\n",
    "comb_dict = {n: list(combinations(range(n), n-3)) for n in range(4, 15)}\n",
    "\n",
    "def to_matrix(s):\n",
    "    \"\"\"Convert string of list of lists to np.array\n",
    "    \"\"\"\n",
    "    res = np.array(literal_eval(s))\n",
    "    return res.astype(np.float32)\n",
    "\n",
    "def to_array(s):\n",
    "    \"\"\"Convert string of list of lists to np.array\n",
    "    \"\"\"\n",
    "    return list(literal_eval(s))\n",
    "\n",
    "def to_integer_kernel(a):\n",
    "    n = len(a[0])\n",
    "    A = matrix(ZZ, a).transpose()\n",
    "    A_null = A.integer_kernel() # (n-3) x n\n",
    "    return Matrix(A_null.basis())\n",
    "\n",
    "def np_to_pluecker(a):\n",
    "    n = len(a[0])\n",
    "    B = to_integer_kernel(a)\n",
    "    res = []\n",
    "    for c in comb_dict[n]:\n",
    "        minor = B[:, c]\n",
    "        res.append(minor.det())\n",
    "    return res \n",
    "\n",
    "def pluecker_csv(PATH):\n",
    "    \n",
    "    df[\"pluecker\"] = df[\"matrix\"].apply(np_to_pluecker)\n",
    "    pluecker_file = \"pluecker_\" + PATH\n",
    "    df.to_csv(pluecker_file, index=False)\n",
    "    \n",
    "if __name__ == \"__main__\":\n",
    "    pluecker_csv(PATH)"
   ]
  },
  {
   "cell_type": "code",
   "execution_count": null,
   "id": "f1048cfe",
   "metadata": {},
   "outputs": [],
   "source": []
  }
 ],
 "metadata": {
  "kernelspec": {
   "display_name": "Python 3 (ipykernel)",
   "language": "python",
   "name": "python3"
  },
  "language_info": {
   "codemirror_mode": {
    "name": "ipython",
    "version": 3
   },
   "file_extension": ".py",
   "mimetype": "text/x-python",
   "name": "python",
   "nbconvert_exporter": "python",
   "pygments_lexer": "ipython3",
   "version": "3.9.7"
  }
 },
 "nbformat": 4,
 "nbformat_minor": 5
}
